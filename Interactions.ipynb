{
 "cells": [
  {
   "cell_type": "code",
   "execution_count": 23,
   "metadata": {},
   "outputs": [
    {
     "name": "stdout",
     "output_type": "stream",
     "text": [
      "valid\n"
     ]
    }
   ],
   "source": [
    "import numpy as np\n",
    "import matplotlib.pyplot as plt\n",
    "import math\n",
    "\n",
    "class Docking(object):\n",
    "    \n",
    "    def __init__(self):\n",
    "        self.q1 = 12\n",
    "        self.q2 = 15\n",
    "        self.r1 = 50\n",
    "        self.r2 = 100\n",
    "        self.sigma = 0\n",
    "        self.distance = 0\n",
    "        self.epsilon = 0\n",
    "        \n",
    "        \n",
    "        \n",
    "    def colomunbs_law(self,k = 9*(10**9)):\n",
    "        self.k = k\n",
    "        c_law = self.k * (self.q1 * self.q2)/ (self.r2 - self.r1)**2\n",
    "        print(c_law)\n",
    "\n",
    "    def LJ(self):\n",
    "        LJ = int(4)* (self.epsilon) * ((self.sigma/self.distance)**12 - (self.sigma/self.distance)**6)\n",
    "        print(LJ)\n",
    "    \n",
    "    @property\n",
    "    def gibbs(self, delT = 0, delH = 0, delS = 0):\n",
    "    \n",
    "        self.delH = delH\n",
    "        self.delT = delT\n",
    "        self.delS = delS\n",
    "        Free_Energy = (delH) - (delT - delS)\n",
    "        return Free_Energy\n",
    "        \n",
    "    #@property    \n",
    "    def validation(self):\n",
    "        if self.gibbs > 0:\n",
    "            print('not vaid')\n",
    "        else:\n",
    "            print('valid')\n",
    "        \n",
    "    \n",
    "        \n",
    "#THIS BUNCH OF CODES CAN CALCULATE THE NON BONDED INTERACTION BETWEEN TWO ATOMS AND I JUST CODED IT FOR FUN! \n",
    "#YOU GUYS JUST PLAY AROUND WITH IT ~ STILL I AM WORKING ON IT TO OPTIMIZE IT ~~ HAPPIE CODING PYTHON!!\n",
    "        \n",
    "    \n",
    "    \n",
    "d = Docking()\n",
    "d.gibbs\n",
    "d.validation()\n",
    "\n",
    "\n",
    "#d = Docking()\n",
    "#d.colomunbs_law()\n",
    "#d1 = Docking()\n",
    "#d1.q1 = 20\n",
    "#d1.g2 = 30\n",
    "#d1.colomunbs_law()\n",
    "#d = Docking()\n",
    "#d.sigma = 10\n",
    "#d.distance = 10\n",
    "#d.epsilon = 12\n",
    "#d.LJ()        "
   ]
  }
 ],
 "metadata": {
  "kernelspec": {
   "display_name": "Python 3",
   "language": "python",
   "name": "python3"
  },
  "language_info": {
   "codemirror_mode": {
    "name": "ipython",
    "version": 3
   },
   "file_extension": ".py",
   "mimetype": "text/x-python",
   "name": "python",
   "nbconvert_exporter": "python",
   "pygments_lexer": "ipython3",
   "version": "3.8.3"
  }
 },
 "nbformat": 4,
 "nbformat_minor": 4
}
