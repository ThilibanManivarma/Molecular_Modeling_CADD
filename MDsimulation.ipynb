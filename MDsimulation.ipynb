{
 "cells": [
  {
   "cell_type": "code",
   "execution_count": 2,
   "metadata": {},
   "outputs": [],
   "source": [
    "import numpy as np\n",
    "import matplotlib.pyplot as plt\n",
    "import math"
   ]
  },
  {
   "cell_type": "code",
   "execution_count": 23,
   "metadata": {},
   "outputs": [],
   "source": [
    "class Dynamics(object):\n",
    "    def __init__(self):\n",
    "        self.dim = 3 #dimension\n",
    "        self.num_particles = 50\n",
    "        self.boxlength = 10\n",
    "        self.mass = 1\n",
    "        self.k = 1\n",
    "        self.temp = 100\n",
    "        self.eps = 1\n",
    "        self.sigma = 1\n",
    "        self.steps = 2000\n",
    "        self.dt = 0.001\n",
    "        self.positions = np.zeros((self.num_particles,self.dim))\n",
    "        self.velocities = np.zeros((self.num_particles,self.dim))\n",
    "        \n",
    "    def initial_position(self):\n",
    "        self.positions = np.random.random_sample((self.num_particles, self.dim))*self.boxlength\n",
    "        \n",
    "    def initial_velcoities(self):\n",
    "        std_deviation = ((self.k * self.temp)/self.mass)**0.5\n",
    "        self.velocities = np.random.normal(loc=0,scale=std_deviation, size =(self.num_particles, self.dim) )\n",
    "        \n",
    "    def lj_pair_potential(self,p1,p2):\n",
    "        #force on p1 due to p2\n",
    "        r = self.positions[p1] - self.positions[p2]\n",
    "        r_mag = np.linalg.norm(r)\n",
    "        r_cap = r/r_mag\n",
    "        \n",
    "        f_mag = 24*self.eps/r_mag * (2*((self.sigma/r_mag)**12) - (self.sigma/r_mag)**6)\n",
    "        return f_mag * r_cap\n",
    "    \n",
    "    \n",
    "    def lj_force(self,p):\n",
    "        force = np.zeros(shape = 2)\n",
    "        for part in range(self.num_particles):\n",
    "            if part == p:\n",
    "                continue\n",
    "            force = force + self.lj_pair_potential(p,part)\n",
    "        return force\n",
    "    \n",
    "    def euler_integration(self):\n",
    "        for i in range(self.steps):\n",
    "            forces = np.array([self.lj_force(p) for p in range(self.num_particles)])\n",
    "            self.positions += self.velocities*self.dt\n",
    "            self.velocities += forces*(self.dt/self.mass)\n",
    "    \n",
    "        \n",
    "    \n",
    "        \n",
    "        \n",
    "    def draw_circle(self):\n",
    "        plt.figure(figsize =(5,5))\n",
    "        axis = plt.gca()\n",
    "        \n",
    "        axis.set_xlim(-10,self.boxlength+10) #these two lines are boundary area! \n",
    "        axis.set_ylim(-10,self.boxlength+10)\n",
    "        \n",
    "        for i in range(self.num_particles):\n",
    "            axis.add_patch(plt.Circle(self.positions[i],radius = 0.5, linewidth =2, edgecolor = 'black'))\n",
    "         \n",
    "\n",
    "d = Dynamics()\n",
    "#d1 = d.initial_position()\n",
    "#d2 = d.initial_velcoities()\n",
    "#print(d.positions)\n",
    "#print(d.velocities)\n",
    "#d.euler_integration()"
   ]
  },
  {
   "cell_type": "code",
   "execution_count": 4,
   "metadata": {},
   "outputs": [
    {
     "data": {
      "image/png": "[encoded data removed]",
      "text/plain": [
       "<Figure size 360x360 with 1 Axes>"
      ]
     },
     "metadata": {
      "needs_background": "light"
     },
     "output_type": "display_data"
    }
   ],
   "source": [
    "#d.draw_circle()"
   ]
  },
  {
   "cell_type": "code",
   "execution_count": null,
   "metadata": {},
   "outputs": [],
   "source": []
  }
 ],
 "metadata": {
  "kernelspec": {
   "display_name": "Python 3",
   "language": "python",
   "name": "python3"
  },
  "language_info": {
   "codemirror_mode": {
    "name": "ipython",
    "version": 3
   },
   "file_extension": ".py",
   "mimetype": "text/x-python",
   "name": "python",
   "nbconvert_exporter": "python",
   "pygments_lexer": "ipython3",
   "version": "3.8.3"
  }
 },
 "nbformat": 4,
 "nbformat_minor": 4
}
